{
  "nbformat": 4,
  "nbformat_minor": 0,
  "metadata": {
    "colab": {
      "provenance": []
    },
    "kernelspec": {
      "name": "python3",
      "display_name": "Python 3"
    },
    "language_info": {
      "name": "python"
    }
  },
  "cells": [
    {
      "cell_type": "markdown",
      "source": [
        "Python Data Structures Assignment\n",
        "Theory Questions\n",
        "\n",
        "1. What are data structures, and why are they important?\n",
        "\n",
        "Answer:\n",
        "\n",
        "Data structures are ways of organizing and storing data efficiently. They help in processing, retrieving, and storing data effectively, crucial for writing optimized code.\n",
        "\n",
        "2. Explain the difference between mutable and immutable data types with examples.\n",
        "\n",
        "Answer:\n",
        "\n",
        "Mutable data types can be changed after creation (e.g., lists, dictionaries), while immutable types cannot (e.g., strings, tuples). Example: my_list = [1, 2] is mutable, my_tuple = (1, 2) is immutable.\n",
        "\n",
        "3. What are the main differences between lists and tuples in Python?\n",
        "\n",
        "Answer:\n",
        "\n",
        "Lists are mutable and allow changes, while tuples are immutable and faster for iteration. Lists use square brackets [], tuples use parentheses ().\n",
        "\n",
        "4. Describe how dictionaries store data.\n",
        "\n",
        "Answer:\n",
        "\n",
        "Dictionaries store data in key-value pairs using a hash table, allowing quick access via keys.\n",
        "\n",
        "5. Why might you use a set instead of a list in Python?\n",
        "\n",
        "Answer:\n",
        "\n",
        "Sets remove duplicate elements and offer fast membership testing, making them useful when uniqueness is required.\n",
        "\n",
        "6. What is a string in Python, and how is it different from a list?\n",
        "\n",
        "Answer:\n",
        "\n",
        "A string is an immutable sequence of characters. Unlike lists, strings cannot be modified in-place.\n",
        "\n",
        "7. How do tuples ensure data integrity in Python?\n",
        "\n",
        "Answer:\n",
        "\n",
        "Tuples are immutable, preventing accidental data changes. This ensures data integrity in programs.\n",
        "\n",
        "8. What is a hash table, and how does it relate to dictionaries in Python?\n",
        "\n",
        "Answer:\n",
        "\n",
        "A hash table stores key-value pairs and allows fast access using keys. Python dictionaries are built on hash tables.\n",
        "\n",
        "9. Can lists contain different data types in Python?\n",
        "\n",
        "Answer:\n",
        "\n",
        "Yes, Python lists can contain different data types like ['apple', 10, True].\n",
        "\n",
        "10. Explain why strings are immutable in Python.\n",
        "\n",
        "Answer:\n",
        "\n",
        "Strings are immutable to ensure consistency, optimize memory, and allow safe sharing among variables.\n",
        "\n",
        "11. What advantages do dictionaries offer over lists for certain tasks?\n",
        "\n",
        "Answer:\n",
        "\n",
        "Dictionaries allow fast key-based access and better organization for large datasets compared to index-based lists.\n",
        "\n",
        "12. Describe a scenario where using a tuple would be preferable over a list.\n",
        "\n",
        "Answer:\n",
        "\n",
        "Tuples are preferable when data shouldn't change, like storing constants or keys in dictionaries.\n",
        "\n",
        "13. How do sets handle duplicate values in Python?\n",
        "\n",
        "Answer:\n",
        "\n",
        "Sets automatically eliminate duplicate entries, ensuring all values are unique.\n",
        "\n",
        "14. How does the “in” keyword work differently for lists and dictionaries?\n",
        "\n",
        "Answer:\n",
        "\n",
        "in checks membership. In lists, it checks values; in dictionaries, it checks keys.\n",
        "\n",
        "15. Can you modify the elements of a tuple? Explain why or why not.\n",
        "\n",
        "Answer:\n",
        "\n",
        "No, tuple elements cannot be changed after creation due to immutability.\n",
        "\n",
        "16. What is a nested dictionary, and give an example of its use case.\n",
        "\n",
        "Answer:\n",
        "\n",
        "A nested dictionary contains another dictionary. Example: {'student': {'name': 'Ali', 'age': 21}}.\n",
        "\n",
        "17. Describe the time complexity of accessing elements in a dictionary.\n",
        "\n",
        "Answer:\n",
        "\n",
        "Accessing dictionary elements is O(1) on average due to hashing.\n",
        "\n",
        "18. In what situations are lists preferred over dictionaries?\n",
        "\n",
        "Answer:\n",
        "\n",
        "Lists are better when order matters and elements need to be accessed by position.\n",
        "\n",
        "19. Why are dictionaries considered unordered, and how does that affect data retrieval?\n",
        "\n",
        "Answer:\n",
        "\n",
        "Dictionaries are unordered collections (before Python 3.7), so data isn't retrieved in insertion order.\n",
        "\n",
        "20. Explain the difference between a list and a dictionary in terms of data retrieval.\n",
        "\n",
        "Answer:\n",
        "\n",
        "A list can store any data type. In contrast, keys in the dictionary can be of any immutable data type, and values can be of any data type. Lists perform faster for ordered operations like sorting, while dictionaries perform faster for lookup operations"
      ],
      "metadata": {
        "id": "YEovJrgqvu8y"
      }
    },
    {
      "cell_type": "code",
      "execution_count": null,
      "metadata": {
        "id": "-uW-_I-avPbr"
      },
      "outputs": [],
      "source": []
    },
    {
      "cell_type": "markdown",
      "source": [
        "# Practical Questions"
      ],
      "metadata": {
        "id": "JexeZ7Qnv_R6"
      }
    },
    {
      "cell_type": "markdown",
      "source": [
        "1. Write a code to create a string with your name and print it."
      ],
      "metadata": {
        "id": "4va8fWNjwRy8"
      }
    },
    {
      "cell_type": "code",
      "source": [
        "name = \"Anshuman\"\n",
        "print(name)"
      ],
      "metadata": {
        "colab": {
          "base_uri": "https://localhost:8080/"
        },
        "id": "E7v9HltQwKz-",
        "outputId": "418be43e-ce9f-436e-bb3a-0a7d5764cfea"
      },
      "execution_count": 1,
      "outputs": [
        {
          "output_type": "stream",
          "name": "stdout",
          "text": [
            "Anshuman\n"
          ]
        }
      ]
    },
    {
      "cell_type": "markdown",
      "source": [
        "2. Write a code to find the length of the string \"Hello World\"."
      ],
      "metadata": {
        "id": "2oa8Z_Hdwm1f"
      }
    },
    {
      "cell_type": "code",
      "source": [
        "\n",
        "a = \"Hello World\"\n",
        "print(len(a))"
      ],
      "metadata": {
        "colab": {
          "base_uri": "https://localhost:8080/"
        },
        "id": "yCQCyYFKwWKU",
        "outputId": "fa7a8b76-ab2b-4813-b847-f15b8aaff65b"
      },
      "execution_count": 4,
      "outputs": [
        {
          "output_type": "stream",
          "name": "stdout",
          "text": [
            "11\n"
          ]
        }
      ]
    },
    {
      "cell_type": "markdown",
      "source": [
        "3. Write a code to slice the first 3 characters from the string \"Python Programming\"."
      ],
      "metadata": {
        "id": "Pjq85bgiw9kx"
      }
    },
    {
      "cell_type": "code",
      "source": [
        "a = \"Python Programming\"\n",
        "print(a[:3])"
      ],
      "metadata": {
        "colab": {
          "base_uri": "https://localhost:8080/"
        },
        "id": "6pds7w_awvgc",
        "outputId": "eddd2c23-f202-4fdd-dff8-a781c408b360"
      },
      "execution_count": 5,
      "outputs": [
        {
          "output_type": "stream",
          "name": "stdout",
          "text": [
            "Pyt\n"
          ]
        }
      ]
    },
    {
      "cell_type": "markdown",
      "source": [
        "4. Write a code to convert the string \"hello\" to uppercase"
      ],
      "metadata": {
        "id": "44RFYY7XxI-w"
      }
    },
    {
      "cell_type": "code",
      "source": [
        "\n",
        "a = \"hello\"\n",
        "print(a.upper())\n",
        ""
      ],
      "metadata": {
        "colab": {
          "base_uri": "https://localhost:8080/"
        },
        "id": "a5dd2k6zxDag",
        "outputId": "290ca863-f441-459d-e052-7a05a830ed6e"
      },
      "execution_count": 6,
      "outputs": [
        {
          "output_type": "stream",
          "name": "stdout",
          "text": [
            "HELLO\n"
          ]
        }
      ]
    },
    {
      "cell_type": "markdown",
      "source": [
        "5. Write a code to replace the word \"apple\" with \"orange\" in the string \"I like apple\"."
      ],
      "metadata": {
        "id": "SDYYl6i-xSIv"
      }
    },
    {
      "cell_type": "code",
      "source": [
        "\n",
        "a = \"I like apple\"\n",
        "print(a.replace(\"apple\", \"orange\"))"
      ],
      "metadata": {
        "colab": {
          "base_uri": "https://localhost:8080/"
        },
        "id": "UkZafgFgxOiM",
        "outputId": "c67adc32-8e72-4d19-b4b2-b494a4f3a17c"
      },
      "execution_count": 7,
      "outputs": [
        {
          "output_type": "stream",
          "name": "stdout",
          "text": [
            "I like orange\n"
          ]
        }
      ]
    },
    {
      "cell_type": "markdown",
      "source": [
        "6. Write a code to create a list with numbers 1 to 5 and print it.\n",
        "\n"
      ],
      "metadata": {
        "id": "VvmeOgChxdHV"
      }
    },
    {
      "cell_type": "code",
      "source": [
        "lst = [1, 2, 3, 4, 5]\n",
        "print(lst)"
      ],
      "metadata": {
        "colab": {
          "base_uri": "https://localhost:8080/"
        },
        "id": "ClmZ27GHxexv",
        "outputId": "f873cf12-df3c-4065-8d6e-3bcf54ce4fb3"
      },
      "execution_count": 9,
      "outputs": [
        {
          "output_type": "stream",
          "name": "stdout",
          "text": [
            "[1, 2, 3, 4, 5]\n"
          ]
        }
      ]
    },
    {
      "cell_type": "markdown",
      "source": [
        "7. Write a code to append the number 10 to the list [1, 2, 3, 4].\n"
      ],
      "metadata": {
        "id": "K5yeWPjjxwu6"
      }
    },
    {
      "cell_type": "code",
      "source": [
        "lst = [1, 2, 3, 4]\n",
        "lst.append(10)\n",
        "print(lst)"
      ],
      "metadata": {
        "colab": {
          "base_uri": "https://localhost:8080/"
        },
        "id": "Spw1mMkhx2JR",
        "outputId": "89939512-4239-4bbb-e74a-5be64057533e"
      },
      "execution_count": 11,
      "outputs": [
        {
          "output_type": "stream",
          "name": "stdout",
          "text": [
            "[1, 2, 3, 4, 10]\n"
          ]
        }
      ]
    },
    {
      "cell_type": "markdown",
      "source": [
        "8. Write a code to remove the number 3 from the list [1, 2, 3, 4, 5]."
      ],
      "metadata": {
        "id": "GIdFHWMsyA8I"
      }
    },
    {
      "cell_type": "code",
      "source": [
        "lst = [1, 2, 3, 4, 5]\n",
        "lst.remove(3)\n",
        "print(lst)"
      ],
      "metadata": {
        "colab": {
          "base_uri": "https://localhost:8080/"
        },
        "id": "RD2eXQijx5f5",
        "outputId": "9c7bc581-7e8f-44cd-c6f8-edf41f236076"
      },
      "execution_count": 12,
      "outputs": [
        {
          "output_type": "stream",
          "name": "stdout",
          "text": [
            "[1, 2, 4, 5]\n"
          ]
        }
      ]
    },
    {
      "cell_type": "markdown",
      "source": [
        "9. Write a code to access the second element in the list ['a', 'b', 'c', 'd']."
      ],
      "metadata": {
        "id": "ej1Tx0NCyKRo"
      }
    },
    {
      "cell_type": "code",
      "source": [
        "lst = ['a', 'b', 'c', 'd']\n",
        "print(lst[1])"
      ],
      "metadata": {
        "colab": {
          "base_uri": "https://localhost:8080/"
        },
        "id": "48e1iX3EyLvr",
        "outputId": "779d2668-1d0c-4384-9675-38760d4460a8"
      },
      "execution_count": 14,
      "outputs": [
        {
          "output_type": "stream",
          "name": "stdout",
          "text": [
            "b\n"
          ]
        }
      ]
    },
    {
      "cell_type": "markdown",
      "source": [
        "10. Write a code to reverse the list [10, 20, 30, 40, 50]."
      ],
      "metadata": {
        "id": "m8Dyto0Eyb7l"
      }
    },
    {
      "cell_type": "code",
      "source": [
        "lst = [10, 20, 30, 40, 50]\n",
        "lst.reverse()\n",
        "print(lst)"
      ],
      "metadata": {
        "colab": {
          "base_uri": "https://localhost:8080/"
        },
        "id": "uVjtvnK1yfPo",
        "outputId": "0892b69b-28b0-41e8-9124-e2ec5e34f691"
      },
      "execution_count": 15,
      "outputs": [
        {
          "output_type": "stream",
          "name": "stdout",
          "text": [
            "[50, 40, 30, 20, 10]\n"
          ]
        }
      ]
    },
    {
      "cell_type": "markdown",
      "source": [
        "11. Write a code to create a tuple with the elements 100, 200, 300 and print it."
      ],
      "metadata": {
        "id": "OLW2VZ23ylg9"
      }
    },
    {
      "cell_type": "code",
      "source": [
        "tpl = (100, 200, 300)\n",
        "print(tpl)"
      ],
      "metadata": {
        "colab": {
          "base_uri": "https://localhost:8080/"
        },
        "id": "EzhQmpa8yhub",
        "outputId": "f5325a16-0b09-426d-8b3b-c887746da8e4"
      },
      "execution_count": 16,
      "outputs": [
        {
          "output_type": "stream",
          "name": "stdout",
          "text": [
            "(100, 200, 300)\n"
          ]
        }
      ]
    },
    {
      "cell_type": "markdown",
      "source": [
        "12. Write a code to access the second-to-last element of the tuple ('red', 'green', 'blue', 'yellow')."
      ],
      "metadata": {
        "id": "38-zjYeEyvnE"
      }
    },
    {
      "cell_type": "code",
      "source": [
        "tpl = ('red', 'green', 'blue', 'yellow')\n",
        "print(tpl[-2])"
      ],
      "metadata": {
        "colab": {
          "base_uri": "https://localhost:8080/"
        },
        "id": "vnU_pvITyqU1",
        "outputId": "ebc97b93-686d-476c-ac6f-b1a5caf99bf7"
      },
      "execution_count": 17,
      "outputs": [
        {
          "output_type": "stream",
          "name": "stdout",
          "text": [
            "blue\n"
          ]
        }
      ]
    },
    {
      "cell_type": "markdown",
      "source": [
        "13. Write a code to find the minimum number in the tuple (10, 20, 5, 15)."
      ],
      "metadata": {
        "id": "DT48ML-gy3F6"
      }
    },
    {
      "cell_type": "code",
      "source": [
        "tpl = (10, 20, 5, 15)\n",
        "print(min(tpl))"
      ],
      "metadata": {
        "colab": {
          "base_uri": "https://localhost:8080/"
        },
        "id": "y8eKq6Tgy0H5",
        "outputId": "6cf333b9-6d9b-4b1c-b017-4672d7f05913"
      },
      "execution_count": 18,
      "outputs": [
        {
          "output_type": "stream",
          "name": "stdout",
          "text": [
            "5\n"
          ]
        }
      ]
    },
    {
      "cell_type": "markdown",
      "source": [
        "14. Write a code to find the index of the element \"cat\" in the tuple ('dog', 'cat', 'rabbit')."
      ],
      "metadata": {
        "id": "6YVEgFUKy_Zf"
      }
    },
    {
      "cell_type": "code",
      "source": [
        "tpl = ('dog', 'cat', 'rabbit')\n",
        "print(tpl.index('cat'))"
      ],
      "metadata": {
        "colab": {
          "base_uri": "https://localhost:8080/"
        },
        "id": "o2Npuf_4y6rm",
        "outputId": "b35c4254-2b53-421a-cff6-5189916e65fb"
      },
      "execution_count": 19,
      "outputs": [
        {
          "output_type": "stream",
          "name": "stdout",
          "text": [
            "1\n"
          ]
        }
      ]
    },
    {
      "cell_type": "markdown",
      "source": [
        "15. Write a code to create a tuple containing three different fruits and check if \"kiwi\" is in it."
      ],
      "metadata": {
        "id": "TAVtzMmFzHSw"
      }
    },
    {
      "cell_type": "code",
      "source": [
        "fruits = (\"apple\", \"banana\", \"cherry\")\n",
        "print(\"kiwi\" in fruits)"
      ],
      "metadata": {
        "colab": {
          "base_uri": "https://localhost:8080/"
        },
        "id": "Y6-BQYHLzDFU",
        "outputId": "b374451a-1ee2-42d4-d9bd-2c82e35b01f4"
      },
      "execution_count": 20,
      "outputs": [
        {
          "output_type": "stream",
          "name": "stdout",
          "text": [
            "False\n"
          ]
        }
      ]
    },
    {
      "cell_type": "markdown",
      "source": [
        "16. Write a code to create a set with the elements 'a', 'b', 'c' and print it."
      ],
      "metadata": {
        "id": "Op9k1fSrzPhO"
      }
    },
    {
      "cell_type": "code",
      "source": [
        "s = {'a', 'b', 'c'}\n",
        "print(s)"
      ],
      "metadata": {
        "colab": {
          "base_uri": "https://localhost:8080/"
        },
        "id": "D8ZltGGuzKpv",
        "outputId": "a8ce7b7e-1853-44fe-d404-21f873baf574"
      },
      "execution_count": 21,
      "outputs": [
        {
          "output_type": "stream",
          "name": "stdout",
          "text": [
            "{'b', 'c', 'a'}\n"
          ]
        }
      ]
    },
    {
      "cell_type": "markdown",
      "source": [
        "17. Write a code to clear all elements from the set {1, 2, 3, 4, 5}."
      ],
      "metadata": {
        "id": "8lzT_GGQzU7B"
      }
    },
    {
      "cell_type": "code",
      "source": [
        "s = {1, 2, 3, 4, 5}\n",
        "s.clear()\n",
        "print(s)"
      ],
      "metadata": {
        "colab": {
          "base_uri": "https://localhost:8080/"
        },
        "id": "ZspslZA-zSeY",
        "outputId": "98b154a7-bfa8-4488-86b2-e5eed195a358"
      },
      "execution_count": 22,
      "outputs": [
        {
          "output_type": "stream",
          "name": "stdout",
          "text": [
            "set()\n"
          ]
        }
      ]
    },
    {
      "cell_type": "markdown",
      "source": [
        "18. Write a code to remove the element 4 from the set {1, 2, 3, 4}."
      ],
      "metadata": {
        "id": "aVyIhI5Nza52"
      }
    },
    {
      "cell_type": "code",
      "source": [
        "s = {1, 2, 3, 4}\n",
        "s.remove(4)\n",
        "print(s)"
      ],
      "metadata": {
        "colab": {
          "base_uri": "https://localhost:8080/"
        },
        "id": "YnBT55mkzdGs",
        "outputId": "587c98ff-746f-4368-9b67-4714850e379c"
      },
      "execution_count": 23,
      "outputs": [
        {
          "output_type": "stream",
          "name": "stdout",
          "text": [
            "{1, 2, 3}\n"
          ]
        }
      ]
    },
    {
      "cell_type": "markdown",
      "source": [
        "19. Write a code to find the union of two sets {1, 2, 3} and {3, 4, 5}."
      ],
      "metadata": {
        "id": "UJCrGaWJzu_l"
      }
    },
    {
      "cell_type": "code",
      "source": [
        "s1 = {1, 2, 3}\n",
        "s2 = {3, 4, 5}\n",
        "print(s1.union(s2))"
      ],
      "metadata": {
        "colab": {
          "base_uri": "https://localhost:8080/"
        },
        "id": "WSGInqxUzxzC",
        "outputId": "eddbe62d-52f4-4d98-8c75-5e9237770f25"
      },
      "execution_count": 24,
      "outputs": [
        {
          "output_type": "stream",
          "name": "stdout",
          "text": [
            "{1, 2, 3, 4, 5}\n"
          ]
        }
      ]
    },
    {
      "cell_type": "markdown",
      "source": [
        "20. Write a code to find the intersection of two sets {1, 2, 3} and {2, 3, 4}."
      ],
      "metadata": {
        "id": "bgcUkgqn0EAt"
      }
    },
    {
      "cell_type": "code",
      "source": [
        "s1 = {1, 2, 3}\n",
        "s2 = {2, 3, 4}\n",
        "print(s1.intersection(s2))"
      ],
      "metadata": {
        "colab": {
          "base_uri": "https://localhost:8080/"
        },
        "id": "mmkSvAYzz1JI",
        "outputId": "a937bb9c-9de8-4bb6-ab3e-268fae6f3e81"
      },
      "execution_count": 25,
      "outputs": [
        {
          "output_type": "stream",
          "name": "stdout",
          "text": [
            "{2, 3}\n"
          ]
        }
      ]
    },
    {
      "cell_type": "markdown",
      "source": [
        "21. Write a code to create a dictionary with the keys \"name\", \"age\", and \"city\", and print it."
      ],
      "metadata": {
        "id": "bfS7U8eP0KJO"
      }
    },
    {
      "cell_type": "code",
      "source": [
        "d = {\"name\": \"John\", \"age\": 26, \"city\": \"New York\"}\n",
        "print(d)"
      ],
      "metadata": {
        "colab": {
          "base_uri": "https://localhost:8080/"
        },
        "id": "h1rrTUAp0LBZ",
        "outputId": "e6c9b098-53cb-4869-ae43-1a146cafa089"
      },
      "execution_count": 26,
      "outputs": [
        {
          "output_type": "stream",
          "name": "stdout",
          "text": [
            "{'name': 'John', 'age': 26, 'city': 'New York'}\n"
          ]
        }
      ]
    },
    {
      "cell_type": "markdown",
      "source": [
        "22. Write a code to add a new key-value pair \"country\": \"USA\" to the dictionary {'name': 'John', 'age': 25}."
      ],
      "metadata": {
        "id": "FAx7MHMo0WDS"
      }
    },
    {
      "cell_type": "code",
      "source": [
        "d = {'name': 'John', 'age': 25}\n",
        "d['country'] = 'USA'\n",
        "print(d)"
      ],
      "metadata": {
        "colab": {
          "base_uri": "https://localhost:8080/"
        },
        "id": "SKTMyb2B0G0F",
        "outputId": "252e4ddc-5a55-425b-a272-383368e25287"
      },
      "execution_count": 27,
      "outputs": [
        {
          "output_type": "stream",
          "name": "stdout",
          "text": [
            "{'name': 'John', 'age': 25, 'country': 'USA'}\n"
          ]
        }
      ]
    },
    {
      "cell_type": "markdown",
      "source": [
        "23. Write a code to access the value associated with the key \"name\" in the dictionary {'name': 'Alice', 'age': 30}."
      ],
      "metadata": {
        "id": "Ro3DlCXU0beb"
      }
    },
    {
      "cell_type": "code",
      "source": [
        "d = {'name': 'Alice', 'age': 30}\n",
        "print(d['name'])"
      ],
      "metadata": {
        "colab": {
          "base_uri": "https://localhost:8080/"
        },
        "id": "ePt7R5oQ0eNk",
        "outputId": "c8f9e0d1-c65e-41a0-b2ae-e4b4c30ab876"
      },
      "execution_count": 28,
      "outputs": [
        {
          "output_type": "stream",
          "name": "stdout",
          "text": [
            "Alice\n"
          ]
        }
      ]
    },
    {
      "cell_type": "markdown",
      "source": [
        "24. Write a code to remove the key \"age\" from the dictionary {'name': 'Bob', 'age': 22, 'city': 'New York'}."
      ],
      "metadata": {
        "id": "q7haiejH0jU8"
      }
    },
    {
      "cell_type": "code",
      "source": [
        "d = {'name': 'Bob', 'age': 22, 'city': 'New York'}\n",
        "d.pop('age')\n",
        "print(d)"
      ],
      "metadata": {
        "colab": {
          "base_uri": "https://localhost:8080/"
        },
        "id": "LunBhiVG0j0d",
        "outputId": "99b9315f-0fdf-490b-b7ef-1ad6f2b420b8"
      },
      "execution_count": 29,
      "outputs": [
        {
          "output_type": "stream",
          "name": "stdout",
          "text": [
            "{'name': 'Bob', 'city': 'New York'}\n"
          ]
        }
      ]
    },
    {
      "cell_type": "markdown",
      "source": [
        "25. Write a code to check if the key \"city\" exists in the dictionary {'name': 'Alice', 'city': 'Paris'}."
      ],
      "metadata": {
        "id": "gGf3F3MH0jMI"
      }
    },
    {
      "cell_type": "code",
      "source": [
        "d = {'name': 'Alice', 'city': 'Paris'}\n",
        "print('city' in d)"
      ],
      "metadata": {
        "colab": {
          "base_uri": "https://localhost:8080/"
        },
        "id": "5YYMjmXF0Z7G",
        "outputId": "9010381d-44b2-484c-b04e-0308bb158a78"
      },
      "execution_count": 30,
      "outputs": [
        {
          "output_type": "stream",
          "name": "stdout",
          "text": [
            "True\n"
          ]
        }
      ]
    },
    {
      "cell_type": "markdown",
      "source": [
        "26. Write a code to create a list, a tuple, and a dictionary, and print them all."
      ],
      "metadata": {
        "id": "Llw5PsJl00vV"
      }
    },
    {
      "cell_type": "code",
      "source": [
        "lst = [1, 2, 3]\n",
        "tpl = (4, 5, 6)\n",
        "dct = {'a': 7, 'b': 8}\n",
        "print(lst, tpl, dct)"
      ],
      "metadata": {
        "colab": {
          "base_uri": "https://localhost:8080/"
        },
        "id": "DNg1ticE0vFa",
        "outputId": "6ba65f3f-241c-4810-e9cc-0d928b9664cf"
      },
      "execution_count": 31,
      "outputs": [
        {
          "output_type": "stream",
          "name": "stdout",
          "text": [
            "[1, 2, 3] (4, 5, 6) {'a': 7, 'b': 8}\n"
          ]
        }
      ]
    },
    {
      "cell_type": "code",
      "source": [],
      "metadata": {
        "id": "uMaBihGN040q"
      },
      "execution_count": null,
      "outputs": []
    },
    {
      "cell_type": "markdown",
      "source": [
        "27. Write a code to create a list of 5 random numbers between 1 and 100, sort it in ascending order, and print the result."
      ],
      "metadata": {
        "id": "I0k0Wl6R07sf"
      }
    },
    {
      "cell_type": "code",
      "source": [
        "import random\n",
        "lst = random.sample(range(1, 101), 5)\n",
        "lst.sort()\n",
        "print(lst)"
      ],
      "metadata": {
        "colab": {
          "base_uri": "https://localhost:8080/"
        },
        "id": "DGKEq13908xt",
        "outputId": "6e90d6a2-5935-4f89-b7d4-81a49441f392"
      },
      "execution_count": 32,
      "outputs": [
        {
          "output_type": "stream",
          "name": "stdout",
          "text": [
            "[5, 18, 57, 87, 88]\n"
          ]
        }
      ]
    },
    {
      "cell_type": "markdown",
      "source": [
        "28. Write a code to create a list with strings and print the element at the third index."
      ],
      "metadata": {
        "id": "EiQIv6bN1C47"
      }
    },
    {
      "cell_type": "code",
      "source": [
        "lst = ['apple', 'banana', 'cherry', 'date']\n",
        "print(lst[3])"
      ],
      "metadata": {
        "colab": {
          "base_uri": "https://localhost:8080/"
        },
        "id": "wxZjYpeP1Dzb",
        "outputId": "ef582297-77be-4754-8383-d38d01609937"
      },
      "execution_count": 33,
      "outputs": [
        {
          "output_type": "stream",
          "name": "stdout",
          "text": [
            "date\n"
          ]
        }
      ]
    },
    {
      "cell_type": "markdown",
      "source": [
        "29. Write a code to combine two dictionaries into one and print the result."
      ],
      "metadata": {
        "id": "4BXhdxsT1JPV"
      }
    },
    {
      "cell_type": "code",
      "source": [
        "d1 = {'a': 1}\n",
        "d2 = {'b': 2}\n",
        "d1.update(d2)\n",
        "print(d1)"
      ],
      "metadata": {
        "colab": {
          "base_uri": "https://localhost:8080/"
        },
        "id": "4Gt8yqsQ0_jI",
        "outputId": "2216d00d-5054-406a-dd53-ebc616d4f453"
      },
      "execution_count": 34,
      "outputs": [
        {
          "output_type": "stream",
          "name": "stdout",
          "text": [
            "{'a': 1, 'b': 2}\n"
          ]
        }
      ]
    },
    {
      "cell_type": "markdown",
      "source": [
        "30. Write a code to convert a list of strings into a set."
      ],
      "metadata": {
        "id": "K77ZO-nw1Ril"
      }
    },
    {
      "cell_type": "code",
      "source": [
        "lst = ['apple', 'banana', 'cherry']\n",
        "print(set(lst))"
      ],
      "metadata": {
        "colab": {
          "base_uri": "https://localhost:8080/"
        },
        "id": "sAPLA8nj1Mmh",
        "outputId": "cb9387b4-75f4-4fc0-8a9c-224b0f6b8c6e"
      },
      "execution_count": 35,
      "outputs": [
        {
          "output_type": "stream",
          "name": "stdout",
          "text": [
            "{'cherry', 'banana', 'apple'}\n"
          ]
        }
      ]
    },
    {
      "cell_type": "code",
      "source": [],
      "metadata": {
        "id": "bKtRy6nM1Uoh"
      },
      "execution_count": null,
      "outputs": []
    }
  ]
}